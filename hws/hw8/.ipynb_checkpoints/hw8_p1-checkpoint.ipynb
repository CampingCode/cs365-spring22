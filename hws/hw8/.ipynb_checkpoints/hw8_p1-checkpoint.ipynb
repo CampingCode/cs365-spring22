{
 "cells": [
  {
   "cell_type": "code",
   "execution_count": 1,
   "id": "fe1c0c0e",
   "metadata": {},
   "outputs": [
    {
     "name": "stdout",
     "output_type": "stream",
     "text": [
      "[[120 125 125 135 145]\n",
      " [ 61  60  64  68  72]]\n"
     ]
    }
   ],
   "source": [
    "#importing library and make the matrix according to the problem\n",
    "import numpy as np\n",
    "import matplotlib.pyplot as plt\n",
    "from sklearn.decomposition import PCA\n",
    "m = np.matrix([[120,125,125,135,145],[61,60,64,68,72]])\n",
    "print(m)"
   ]
  },
  {
   "cell_type": "code",
   "execution_count": 2,
   "id": "756d08b2",
   "metadata": {},
   "outputs": [
    {
     "name": "stdout",
     "output_type": "stream",
     "text": [
      "[[130.]\n",
      " [ 65.]]\n",
      "[[130. 130. 130. 130. 130.]\n",
      " [ 65.  65.  65.  65.  65.]]\n",
      "[[-10.  -5.  -5.   5.  15.]\n",
      " [ -4.  -5.  -1.   3.   7.]]\n"
     ]
    }
   ],
   "source": [
    "#part (a)\n",
    "sample_mean_vector = np.mean(m, axis=1)\n",
    "print(sample_mean_vector)\n",
    "x = np.repeat(sample_mean_vector,5,axis = 1)\n",
    "print(x)\n",
    "result_a = np.subtract(m,x)\n",
    "print(result_a)"
   ]
  },
  {
   "cell_type": "code",
   "execution_count": 3,
   "id": "1fcdc713",
   "metadata": {},
   "outputs": [
    {
     "name": "stdout",
     "output_type": "stream",
     "text": [
      "[[-10.  -5.  -5.   5.  15.]\n",
      " [ -4.  -5.  -1.   3.   7.]]\n"
     ]
    }
   ],
   "source": [
    "# part (b)\n",
    "sample_mean_vector = np.mean(m, axis=1)\n",
    "# print(sample_mean_vector)\n",
    "# x = np.repeat(sample_mean_vector,5,axis = 1)\n",
    "# print(x)\n",
    "result_a = np.subtract(m,sample_mean_vector)\n",
    "print(result_a)"
   ]
  },
  {
   "cell_type": "code",
   "execution_count": 4,
   "id": "229c681e",
   "metadata": {},
   "outputs": [
    {
     "name": "stdout",
     "output_type": "stream",
     "text": [
      "[[100.   47.5]\n",
      " [ 47.5  25. ]]\n"
     ]
    }
   ],
   "source": [
    "#part (b)\n",
    "S = np.cov(result_a)\n",
    "print(S)"
   ]
  },
  {
   "cell_type": "code",
   "execution_count": 5,
   "id": "dc602ebb",
   "metadata": {
    "scrolled": true
   },
   "outputs": [
    {
     "name": "stdout",
     "output_type": "stream",
     "text": [
      "The eigen values are: [123.01859218   1.98140782]\n",
      "The eigen vectors are: [[ 0.89990119 -0.43609386]\n",
      " [ 0.43609386  0.89990119]]\n",
      "The variance of the top PC: 0.9841487374764082\n"
     ]
    }
   ],
   "source": [
    "from numpy import linalg as LA\n",
    "w,v = LA.eig(S)\n",
    "print(\"The eigen values are:\", w)\n",
    "print(\"The eigen vectors are:\",v)\n",
    "var = w[0]/(sum(w))\n",
    "print(\"The variance of the top PC:\", var)"
   ]
  },
  {
   "cell_type": "code",
   "execution_count": 6,
   "id": "7a4da3f8",
   "metadata": {},
   "outputs": [],
   "source": [
    "#part (d)"
   ]
  },
  {
   "cell_type": "code",
   "execution_count": 10,
   "id": "479ca0be",
   "metadata": {},
   "outputs": [
    {
     "name": "stdout",
     "output_type": "stream",
     "text": [
      "original shape:    (5, 2)\n",
      "transformed shape: (5, 1)\n"
     ]
    }
   ],
   "source": [
    "pca = PCA(n_components=1)\n",
    "pca.fit(m.T)\n",
    "X_pca = pca.transform(m.T)\n",
    "print(\"original shape:   \", m.T.shape)\n",
    "print(\"transformed shape:\", X_pca.shape)"
   ]
  },
  {
   "cell_type": "code",
   "execution_count": 21,
   "id": "f2ae2f40",
   "metadata": {},
   "outputs": [
    {
     "data": {
      "text/plain": [
       "<matplotlib.collections.PathCollection at 0x12758e5e0>"
      ]
     },
     "execution_count": 21,
     "metadata": {},
     "output_type": "execute_result"
    },
    {
     "data": {
      "image/png": "[encoded data removed]",
      "text/plain": [
       "<Figure size 432x288 with 1 Axes>"
      ]
     },
     "metadata": {
      "needs_background": "light"
     },
     "output_type": "display_data"
    }
   ],
   "source": [
    "x= [120,125,125,135,145]\n",
    "y= [61,60,64,68,72]\n",
    "\n",
    "X_proj = pca.inverse_transform(X_pca)\n",
    "#X = m.T\n",
    "#X.shape\n",
    "plt.scatter(x,y, c='red')\n",
    "plt.scatter(X_proj[:, 0], X_proj[:, 1], c='blue')\n",
    "\n",
    "#As we can observed by plotting the original data points(represent by red) \n",
    "#and the projected data point(represent by blue),\n",
    "#we can see that our projected points is all projected a linear relationship straightline compared to original points"
   ]
  },
  {
   "cell_type": "code",
   "execution_count": null,
   "id": "e3827903",
   "metadata": {},
   "outputs": [],
   "source": []
  }
 ],
 "metadata": {
  "kernelspec": {
   "display_name": "Python 3 (ipykernel)",
   "language": "python",
   "name": "python3"
  },
  "language_info": {
   "codemirror_mode": {
    "name": "ipython",
    "version": 3
   },
   "file_extension": ".py",
   "mimetype": "text/x-python",
   "name": "python",
   "nbconvert_exporter": "python",
   "pygments_lexer": "ipython3",
   "version": "3.9.7"
  }
 },
 "nbformat": 4,
 "nbformat_minor": 5
}
