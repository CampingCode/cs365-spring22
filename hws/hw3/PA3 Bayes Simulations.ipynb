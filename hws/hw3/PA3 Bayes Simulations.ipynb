{
 "cells": [
  {
   "cell_type": "markdown",
   "metadata": {},
   "source": [
    "# PA3 Bayes Simulation\n",
    "\n",
    "Through this coding exercise you will hopefully gain some appreciation for what Bayes theorem models in real world examples. \n",
    "To this end, we will be using python to simulate real life scenarios and compare the probabilities from the simulations\n",
    "to those from analytical Bayes Theorem\n",
    "\n",
    "#### What to turn in:\n",
    "1. Your copy of this .ipynb file that includes your answers and simulation code\n",
    "\n",
    "#### Where to turn in:\n",
    "1. Grade scope portal\n",
    "\n",
    "#### When to turn in:\n",
    "1. 5 PM EST 2/18"
   ]
  },
  {
   "cell_type": "code",
   "execution_count": 3,
   "metadata": {},
   "outputs": [],
   "source": [
    "# free free to import other packages \n",
    "import numpy as np"
   ]
  },
  {
   "cell_type": "markdown",
   "metadata": {},
   "source": [
    "## P1: Disease and testing\n",
    "\n",
    "Let us say that a common bacteria infects about 5% of the population in a small city in the United States. A new test has been created to detect the infection. If the patient is infected, the test will give a positive result 90% of the time. On the other hand, the test will give a positive result 6% of the time if the person is not infected. What is the probability that the person is infected given a positive test?\n",
    "\n",
    "1. Compute your answer analytically.\n",
    "2. Compute your answer using simulation. You may assume there exist 10000 people. "
   ]
  },
  {
   "cell_type": "markdown",
   "metadata": {},
   "source": [
    "### Analytical Answer Cell (double click to edit)\n",
    "\n",
    "P(A | B) = P(A)*P(B | A) / P(B)\n",
    "\n",
    "P(A) = Chance they have the disease\n",
    "\n",
    "P(B) = Chance of positive test\n",
    "\n",
    "P(B | A) = Chance of positive test given they have disease\n",
    "\n",
    "P(A) = 0.05\n",
    "\n",
    "P(B|A) = 0.9\n",
    "\n",
    "P(B) = P(A)*P(B | A) + P(not A)*P(B | not A) = (0.05)*(0.9) + (1-0.05)*(0.06) = 0.045 + 0.057 = 0.102\n",
    "\n",
    "P(A|B) = 0.05* 0.9/0.102 = 0.441176471\n"
   ]
  },
  {
   "cell_type": "code",
   "execution_count": 62,
   "metadata": {},
   "outputs": [
    {
     "name": "stdout",
     "output_type": "stream",
     "text": [
      "Analytical output: 0.441176471\n",
      "Simulation output: 0.44639376218323584\n"
     ]
    }
   ],
   "source": [
    "#Coding answer\n",
    "population= 10000\n",
    "infection_prob=[]\n",
    "\n",
    "for i in range(population):\n",
    "\n",
    "    infected = np.random.uniform(0,1)\n",
    "    positive = np.random.uniform(0,1)\n",
    "    if infected <0.05:\n",
    "        \n",
    "        if positive < 0.9:\n",
    "            infection_prob.append(1)\n",
    "            \n",
    "    else:\n",
    "        \n",
    "        if positive < 0.06:\n",
    "            infection_prob.append(0)\n",
    "        \n",
    "prob = sum(infection_prob)/len(infection_prob)\n",
    "\n",
    "print(\"Analytical output: \" + \"0.441176471\" )\n",
    "\n",
    "print(\"Simulation output:\",prob)\n",
    "    \n",
    "    \n",
    "    "
   ]
  },
  {
   "cell_type": "markdown",
   "metadata": {},
   "source": [
    "## P2: Trees\n",
    "\n",
    "A local forest contains a series of tree species: elm, maples, and other. Unfortunately, 30% of all trees exhibit some form of decay. Of the ones that do exhibit decay, 15% are elms, 80% are maples, and the rest are other. Of the trees that do *not* exhibit decay, 20% are elm, 10% are maple, and 70% are other. If we were to  select a tree uniformly at random:\n",
    "\n",
    "1. What is the probability the tree I selected is maple?  \n",
    "2. What is the probability that the tree I selected shows decay, given it is a maple tree? \n",
    "\n",
    "Answer 1.,2. both analytically, as well as by writing Python code. You may assume in your simulation, that the number of trees is 10000.\n"
   ]
  },
  {
   "cell_type": "markdown",
   "metadata": {},
   "source": [
    "### Analytic Answer (Double click to edit)\n",
    "\n",
    "P(A | B) = P(A)*P(B | A) / P(B)\n",
    "\n",
    "P(A)*P(B | A) / P(B) = 0.3 * 0.8 + 0.7 * 0.1 = [0.31]\n",
    "\n",
    "0.8 * 0.3 /0.31 = [0.774193548]"
   ]
  },
  {
   "cell_type": "code",
   "execution_count": 85,
   "metadata": {},
   "outputs": [
    {
     "name": "stdout",
     "output_type": "stream",
     "text": [
      "Simulation Maple probability output: 0.3107\n",
      "Simulation output: 0.778564531702607\n"
     ]
    }
   ],
   "source": [
    "#coding answer\n",
    "\n",
    "population = 10000\n",
    "maple_prob=[]\n",
    "\n",
    "for i in range(population):\n",
    "\n",
    "    decay = np.random.uniform(0,1)\n",
    "    tree = np.random.uniform(0,1)\n",
    "    if decay <0.3:\n",
    "        \n",
    "        if tree < 0.8:\n",
    "            maple_prob.append(1)\n",
    "            \n",
    "    else:\n",
    "        \n",
    "        if tree < 0.1:\n",
    "            maple_prob.append(0)\n",
    "            \n",
    "maple = len(maple_prob)/population        \n",
    "prob = sum(maple_prob)/len(maple_prob)\n",
    "\n",
    "print(\"Simulation Maple probability output:\", maple)\n",
    "\n",
    "print(\"Simulation output:\",prob)\n",
    "    "
   ]
  },
  {
   "cell_type": "markdown",
   "metadata": {},
   "source": [
    "## Ham/Spam Email Algorithm Analysis\n",
    "\n",
    "Let’s say we created a new machine learning algorithm for the detection of spam email. It correctly identifies 80% of spam emails as spam. However, it falsely identifies 40% of ham emails as spam. There are three testing data sets to assess our algorithm on. The first test set has 25% of the emails as spam, the second test set has 50% of the emails as spam, and the third data set has 75% of the emails as spam. For each data set, compute the following probabilities both analytically and by simulation. Assume that the number of emails for each of the three tests sets is 10,000.\n",
    "\n",
    "* What is the probability that the email is spam given that my algorithm classifies it as spam? \n",
    "\n",
    "Note: There is no need to replicate your code. Write your code in the form of appropriately defined functions.\n"
   ]
  },
  {
   "cell_type": "markdown",
   "metadata": {},
   "source": [
    "### Analytic Answer (Double click to edit)\n",
    "\n",
    "0.8 * 0.25 + 0.75 * 0.4 = 0.5\n",
    "\n",
    "0.8*0.25 / 0.5 = [0.4]\n",
    "\n",
    "0.8 * 0.5 + 0.5 * 0.4 = 0.6\n",
    "\n",
    "0.8*0.5 / 0.6 = [0.666666667]\n",
    "\n",
    "0.8 * 0.75 + 0.25 * 0.4 = 0.7\n",
    "\n",
    "0.8*0.75 / 0.7 = [0.857142857]"
   ]
  },
  {
   "cell_type": "code",
   "execution_count": 151,
   "metadata": {},
   "outputs": [
    {
     "name": "stdout",
     "output_type": "stream",
     "text": [
      "Simulation output for data set 1: 0.4073555866480112\n",
      "Simulation output for data set 2: 0.6573658860654377\n",
      "Simulation output for data set 3: 0.8622102882984737\n"
     ]
    }
   ],
   "source": [
    "#Coding Answer\n",
    "\n",
    "\n",
    "def spam_identifier(spam_prob,dataset_prob, notspam_prob):\n",
    "#population= 10000\n",
    "    email_prob=[]\n",
    "    for i in range(10000):\n",
    "        spam = np.random.uniform(0,1)\n",
    "        dataset = np.random.uniform(0,1)\n",
    "        if spam < spam_prob:\n",
    "        \n",
    "            if dataset < (dataset_prob):\n",
    "                email_prob.append(1)\n",
    "            \n",
    "        else:\n",
    "            if dataset < (notspam_prob):\n",
    "                email_prob.append(0)\n",
    "        \n",
    "    return sum(email_prob)/len(email_prob)\n",
    "\n",
    "\n",
    "print(\"Simulation output for data set 1:\",(spam_identifier(0.25,0.8,0.4))) \n",
    "print(\"Simulation output for data set 2:\",(spam_identifier(0.5,0.8,0.4))) \n",
    "print(\"Simulation output for data set 3:\",(spam_identifier(0.75,0.8,0.4))) "
   ]
  },
  {
   "cell_type": "code",
   "execution_count": null,
   "metadata": {},
   "outputs": [],
   "source": []
  },
  {
   "cell_type": "code",
   "execution_count": null,
   "metadata": {},
   "outputs": [],
   "source": []
  }
 ],
 "metadata": {
  "kernelspec": {
   "display_name": "Python 3",
   "language": "python",
   "name": "python3"
  },
  "language_info": {
   "codemirror_mode": {
    "name": "ipython",
    "version": 3
   },
   "file_extension": ".py",
   "mimetype": "text/x-python",
   "name": "python",
   "nbconvert_exporter": "python",
   "pygments_lexer": "ipython3",
   "version": "3.7.4"
  }
 },
 "nbformat": 4,
 "nbformat_minor": 4
}
