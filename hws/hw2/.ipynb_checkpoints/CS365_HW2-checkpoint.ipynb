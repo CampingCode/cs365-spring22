{
 "cells": [
  {
   "cell_type": "code",
   "execution_count": 9,
   "metadata": {},
   "outputs": [],
   "source": [
    "import pandas as pd\n",
    "def load(path):\n",
    "    df = pd.read_csv('TRAIN_balanced_ham_spam.csv')\n",
    "\n",
    "    return df"
   ]
  },
  {
   "cell_type": "code",
   "execution_count": 10,
   "metadata": {},
   "outputs": [],
   "source": [
    "def prior(df):\n",
    "    ham_prior = 0\n",
    "    spam_prior =  0\n",
    "    '''YOUR CODE HERE'''\n",
    "    for i in df['label_num']:\n",
    "        if i == 1\n",
    "            spam_prior += 1\n",
    "        else:\n",
    "            ham_prior += 1\n",
    "            \n",
    "    total = ham_prior+ spam_prior\n",
    "    \n",
    "    spam_prior = spam_prior / total\n",
    "    ham_prior = ham_prior/ total \n",
    "            \n",
    "    \n",
    "    \n",
    "\n",
    "    '''END'''\n",
    "    return ham_prior, spam_prior"
   ]
  },
  {
   "cell_type": "code",
   "execution_count": 4,
   "metadata": {},
   "outputs": [],
   "source": [
    "def likelihood(df):\n",
    "    ham_like_dict = {}\n",
    "    spam_like_dict = {}\n",
    "    '''YOUR CODE HERE'''\n",
    "\n",
    "    '''END'''\n",
    "\n",
    "    return ham_like_dict, spam_like_dict"
   ]
  },
  {
   "cell_type": "code",
   "execution_count": 5,
   "metadata": {},
   "outputs": [],
   "source": [
    "def predict(ham_prior, spam_prior, ham_like_dict, spam_like_dict, text):\n",
    "    '''\n",
    "    prediction function that uses prior and likelihood structure to compute proportional posterior for a single line of text\n",
    "    '''\n",
    "    #ham_spam_decision = 1 if classified as spam, 0 if classified as normal/ham\n",
    "    ham_spam_decision = None\n",
    "\n",
    "\n",
    "\n",
    "\n",
    "    '''YOUR CODE HERE'''\n",
    "    #ham_posterior = posterior probability that the email is normal/ham\n",
    "    ham_posterior = None\n",
    "\n",
    "    #spam_posterior = posterior probability that the email is spam\n",
    "    spam_posterior = None\n",
    "\n",
    "    '''END'''\n",
    "    return ham_spam_decision\n"
   ]
  },
  {
   "cell_type": "code",
   "execution_count": 6,
   "metadata": {},
   "outputs": [],
   "source": [
    "def metrics(ham_prior, spam_prior, ham_dict, spam_dict, df):\n",
    "    '''\n",
    "    Calls \"predict\"\n",
    "    '''\n",
    "    hh = 0 #true negatives, truth = ham, predicted = ham\n",
    "    hs = 0 #false positives, truth = ham, pred = spam\n",
    "    sh = 0 #false negatives, truth = spam, pred = ham\n",
    "    ss = 0 #true positives, truth = spam, pred = spam\n",
    "    num_rows = df.shape[0]\n",
    "    for i in range(num_rows):\n",
    "        roi = df.iloc[i,:]\n",
    "        roi_text = roi.text\n",
    "        roi_label = roi.label_num\n",
    "        guess = predict(ham_prior, spam_prior, ham_dict, spam_dict, roi_text)\n",
    "        if roi_label == 0 and guess == 0:\n",
    "            hh += 1\n",
    "        elif roi_label == 0 and guess == 1:\n",
    "            hs += 1\n",
    "        elif roi_label == 1 and guess == 0:\n",
    "            sh += 1\n",
    "        elif roi_label == 1 and guess == 1:\n",
    "            ss += 1\n",
    "    \n",
    "    acc = (ss + hh)/(ss+hh+sh+hs)\n",
    "    precision = (ss)/(ss + hs)\n",
    "    recall = (ss)/(ss + sh)\n",
    "    return acc, precision, recall\n",
    "    \n",
    "if __name__ == \"__main__\":\n",
    "    '''YOUR CODE HERE'''\n",
    "    #this cell is for your own testing of the functions above"
   ]
  },
  {
   "cell_type": "code",
   "execution_count": null,
   "metadata": {},
   "outputs": [],
   "source": []
  }
 ],
 "metadata": {
  "kernelspec": {
   "display_name": "Python 3",
   "language": "python",
   "name": "python3"
  },
  "language_info": {
   "codemirror_mode": {
    "name": "ipython",
    "version": 3
   },
   "file_extension": ".py",
   "mimetype": "text/x-python",
   "name": "python",
   "nbconvert_exporter": "python",
   "pygments_lexer": "ipython3",
   "version": "3.7.4"
  }
 },
 "nbformat": 4,
 "nbformat_minor": 2
}
